{
    "cells": [
        {
            "cell_type": "markdown",
            "metadata": {},
            "source": "# Relationship between number of Hospitals near by a city and their deaths rate from Covid-19"
        },
        {
            "cell_type": "markdown",
            "metadata": {},
            "source": "### Introduction:\n\nThe greatest challenge facing humanity today is Covid-19\n\nDiscovered in late 2019 in Wuhan, China, this disease caused by Sars-Cov-2 has spread rapidly to virtually every country in the world, causing thousands of deaths and suffering directly or indirectly, affecting the global economy and social dynamics.\n\nA race has started to develop an effective vaccine to halt the advancement of Covid-19, but while it is not available, adequate hospital treatment can still save many lives.\n\nIn this study, I intend to look for relationships between the number of hospitals located near a given city and the death rate due to Covid-19 in this location.\n\nFor this I will use the case and death data from each city in the US"
        },
        {
            "cell_type": "markdown",
            "metadata": {},
            "source": "### DataSets: \n\nFor this project it will be used the  COVID-19 Data Repository by the Center for Systems Science and Engineering (CSSE) at Johns Hopkins University avaliable on this page \"https://github.com/CSSEGISandData/COVID-19/tree/master/csse_covid_19_data/csse_covid_19_time_series\""
        },
        {
            "cell_type": "markdown",
            "metadata": {},
            "source": "### Metodology:"
        },
        {
            "cell_type": "markdown",
            "metadata": {},
            "source": "### Part 1 :  Downloading and Preprocessing dataset with pandas"
        },
        {
            "cell_type": "code",
            "execution_count": 1,
            "metadata": {},
            "outputs": [],
            "source": "## Importing libraries"
        },
        {
            "cell_type": "code",
            "execution_count": 2,
            "metadata": {},
            "outputs": [],
            "source": "import pandas as pd"
        },
        {
            "cell_type": "code",
            "execution_count": 3,
            "metadata": {},
            "outputs": [],
            "source": "## Downloading Dataset from Covid-19 Deaths in US"
        },
        {
            "cell_type": "code",
            "execution_count": 4,
            "metadata": {},
            "outputs": [
                {
                    "name": "stdout",
                    "output_type": "stream",
                    "text": "--2020-11-22 13:07:17--  https://raw.githubusercontent.com/CSSEGISandData/COVID-19/master/csse_covid_19_data/csse_covid_19_time_series/time_series_covid19_deaths_US.csv\nResolving raw.githubusercontent.com (raw.githubusercontent.com)... 199.232.8.133\nConnecting to raw.githubusercontent.com (raw.githubusercontent.com)|199.232.8.133|:443... connected.\nHTTP request sent, awaiting response... 200 OK\nLength: 2676422 (2.6M) [text/plain]\nSaving to: \u2018time_series_covid19_deaths_US.csv.3\u2019\n\ntime_series_covid19 100%[===================>]   2.55M  --.-KB/s    in 0.03s   \n\n2020-11-22 13:07:17 (77.2 MB/s) - \u2018time_series_covid19_deaths_US.csv.3\u2019 saved [2676422/2676422]\n\n"
                }
            ],
            "source": "!wget https://raw.githubusercontent.com/CSSEGISandData/COVID-19/master/csse_covid_19_data/csse_covid_19_time_series/time_series_covid19_deaths_US.csv"
        },
        {
            "cell_type": "code",
            "execution_count": 5,
            "metadata": {},
            "outputs": [
                {
                    "data": {
                        "text/html": "<div>\n<style scoped>\n    .dataframe tbody tr th:only-of-type {\n        vertical-align: middle;\n    }\n\n    .dataframe tbody tr th {\n        vertical-align: top;\n    }\n\n    .dataframe thead th {\n        text-align: right;\n    }\n</style>\n<table border=\"1\" class=\"dataframe\">\n  <thead>\n    <tr style=\"text-align: right;\">\n      <th></th>\n      <th>UID</th>\n      <th>iso2</th>\n      <th>iso3</th>\n      <th>code3</th>\n      <th>FIPS</th>\n      <th>Admin2</th>\n      <th>Province_State</th>\n      <th>Country_Region</th>\n      <th>Lat</th>\n      <th>Long_</th>\n      <th>...</th>\n      <th>11/12/20</th>\n      <th>11/13/20</th>\n      <th>11/14/20</th>\n      <th>11/15/20</th>\n      <th>11/16/20</th>\n      <th>11/17/20</th>\n      <th>11/18/20</th>\n      <th>11/19/20</th>\n      <th>11/20/20</th>\n      <th>11/21/20</th>\n    </tr>\n  </thead>\n  <tbody>\n    <tr>\n      <th>0</th>\n      <td>84001001</td>\n      <td>US</td>\n      <td>USA</td>\n      <td>840</td>\n      <td>1001.0</td>\n      <td>Autauga</td>\n      <td>Alabama</td>\n      <td>US</td>\n      <td>32.539527</td>\n      <td>-86.644082</td>\n      <td>...</td>\n      <td>32</td>\n      <td>36</td>\n      <td>36</td>\n      <td>36</td>\n      <td>36</td>\n      <td>37</td>\n      <td>37</td>\n      <td>39</td>\n      <td>39</td>\n      <td>39</td>\n    </tr>\n    <tr>\n      <th>1</th>\n      <td>84001003</td>\n      <td>US</td>\n      <td>USA</td>\n      <td>840</td>\n      <td>1003.0</td>\n      <td>Baldwin</td>\n      <td>Alabama</td>\n      <td>US</td>\n      <td>30.727750</td>\n      <td>-87.722071</td>\n      <td>...</td>\n      <td>84</td>\n      <td>84</td>\n      <td>84</td>\n      <td>84</td>\n      <td>84</td>\n      <td>84</td>\n      <td>84</td>\n      <td>84</td>\n      <td>84</td>\n      <td>84</td>\n    </tr>\n    <tr>\n      <th>2</th>\n      <td>84001005</td>\n      <td>US</td>\n      <td>USA</td>\n      <td>840</td>\n      <td>1005.0</td>\n      <td>Barbour</td>\n      <td>Alabama</td>\n      <td>US</td>\n      <td>31.868263</td>\n      <td>-85.387129</td>\n      <td>...</td>\n      <td>9</td>\n      <td>9</td>\n      <td>9</td>\n      <td>9</td>\n      <td>9</td>\n      <td>9</td>\n      <td>10</td>\n      <td>10</td>\n      <td>10</td>\n      <td>10</td>\n    </tr>\n    <tr>\n      <th>3</th>\n      <td>84001007</td>\n      <td>US</td>\n      <td>USA</td>\n      <td>840</td>\n      <td>1007.0</td>\n      <td>Bibb</td>\n      <td>Alabama</td>\n      <td>US</td>\n      <td>32.996421</td>\n      <td>-87.125115</td>\n      <td>...</td>\n      <td>17</td>\n      <td>17</td>\n      <td>17</td>\n      <td>17</td>\n      <td>17</td>\n      <td>17</td>\n      <td>18</td>\n      <td>18</td>\n      <td>18</td>\n      <td>17</td>\n    </tr>\n    <tr>\n      <th>4</th>\n      <td>84001009</td>\n      <td>US</td>\n      <td>USA</td>\n      <td>840</td>\n      <td>1009.0</td>\n      <td>Blount</td>\n      <td>Alabama</td>\n      <td>US</td>\n      <td>33.982109</td>\n      <td>-86.567906</td>\n      <td>...</td>\n      <td>34</td>\n      <td>34</td>\n      <td>34</td>\n      <td>34</td>\n      <td>34</td>\n      <td>34</td>\n      <td>35</td>\n      <td>35</td>\n      <td>35</td>\n      <td>36</td>\n    </tr>\n  </tbody>\n</table>\n<p>5 rows \u00d7 317 columns</p>\n</div>",
                        "text/plain": "        UID iso2 iso3  code3    FIPS   Admin2 Province_State Country_Region  \\\n0  84001001   US  USA    840  1001.0  Autauga        Alabama             US   \n1  84001003   US  USA    840  1003.0  Baldwin        Alabama             US   \n2  84001005   US  USA    840  1005.0  Barbour        Alabama             US   \n3  84001007   US  USA    840  1007.0     Bibb        Alabama             US   \n4  84001009   US  USA    840  1009.0   Blount        Alabama             US   \n\n         Lat      Long_  ... 11/12/20  11/13/20  11/14/20  11/15/20  11/16/20  \\\n0  32.539527 -86.644082  ...       32        36        36        36        36   \n1  30.727750 -87.722071  ...       84        84        84        84        84   \n2  31.868263 -85.387129  ...        9         9         9         9         9   \n3  32.996421 -87.125115  ...       17        17        17        17        17   \n4  33.982109 -86.567906  ...       34        34        34        34        34   \n\n   11/17/20  11/18/20  11/19/20  11/20/20  11/21/20  \n0        37        37        39        39        39  \n1        84        84        84        84        84  \n2         9        10        10        10        10  \n3        17        18        18        18        17  \n4        34        35        35        35        36  \n\n[5 rows x 317 columns]"
                    },
                    "execution_count": 5,
                    "metadata": {},
                    "output_type": "execute_result"
                }
            ],
            "source": "df_deaths = pd.read_csv('time_series_covid19_deaths_US.csv')\ndf_deaths.head()"
        },
        {
            "cell_type": "code",
            "execution_count": 6,
            "metadata": {},
            "outputs": [
                {
                    "data": {
                        "text/plain": "(3340, 317)"
                    },
                    "execution_count": 6,
                    "metadata": {},
                    "output_type": "execute_result"
                }
            ],
            "source": "df_deaths.shape"
        },
        {
            "cell_type": "code",
            "execution_count": null,
            "metadata": {},
            "outputs": [],
            "source": ""
        },
        {
            "cell_type": "code",
            "execution_count": 7,
            "metadata": {},
            "outputs": [],
            "source": "df_deaths.rename(columns={'11/20/20':'Total_Deaths'}, inplace = True)\ndf_deaths.rename(columns = {'Admin2':'City'}, inplace = True)"
        },
        {
            "cell_type": "code",
            "execution_count": null,
            "metadata": {},
            "outputs": [],
            "source": ""
        },
        {
            "cell_type": "code",
            "execution_count": 8,
            "metadata": {},
            "outputs": [
                {
                    "data": {
                        "text/html": "<div>\n<style scoped>\n    .dataframe tbody tr th:only-of-type {\n        vertical-align: middle;\n    }\n\n    .dataframe tbody tr th {\n        vertical-align: top;\n    }\n\n    .dataframe thead th {\n        text-align: right;\n    }\n</style>\n<table border=\"1\" class=\"dataframe\">\n  <thead>\n    <tr style=\"text-align: right;\">\n      <th></th>\n      <th>City</th>\n      <th>Province_State</th>\n      <th>Lat</th>\n      <th>Long_</th>\n      <th>Total_Deaths</th>\n    </tr>\n  </thead>\n  <tbody>\n    <tr>\n      <th>0</th>\n      <td>Autauga</td>\n      <td>Alabama</td>\n      <td>32.539527</td>\n      <td>-86.644082</td>\n      <td>39</td>\n    </tr>\n    <tr>\n      <th>1</th>\n      <td>Baldwin</td>\n      <td>Alabama</td>\n      <td>30.727750</td>\n      <td>-87.722071</td>\n      <td>84</td>\n    </tr>\n    <tr>\n      <th>2</th>\n      <td>Barbour</td>\n      <td>Alabama</td>\n      <td>31.868263</td>\n      <td>-85.387129</td>\n      <td>10</td>\n    </tr>\n    <tr>\n      <th>3</th>\n      <td>Bibb</td>\n      <td>Alabama</td>\n      <td>32.996421</td>\n      <td>-87.125115</td>\n      <td>18</td>\n    </tr>\n    <tr>\n      <th>4</th>\n      <td>Blount</td>\n      <td>Alabama</td>\n      <td>33.982109</td>\n      <td>-86.567906</td>\n      <td>35</td>\n    </tr>\n  </tbody>\n</table>\n</div>",
                        "text/plain": "      City Province_State        Lat      Long_  Total_Deaths\n0  Autauga        Alabama  32.539527 -86.644082            39\n1  Baldwin        Alabama  30.727750 -87.722071            84\n2  Barbour        Alabama  31.868263 -85.387129            10\n3     Bibb        Alabama  32.996421 -87.125115            18\n4   Blount        Alabama  33.982109 -86.567906            35"
                    },
                    "execution_count": 8,
                    "metadata": {},
                    "output_type": "execute_result"
                }
            ],
            "source": "df_deaths_simple = df_deaths[['City', 'Province_State', 'Lat', 'Long_', 'Total_Deaths' ]]\ndf_deaths_simple.head()"
        },
        {
            "cell_type": "code",
            "execution_count": 9,
            "metadata": {},
            "outputs": [
                {
                    "name": "stdout",
                    "output_type": "stream",
                    "text": "Total Covid-19 Deaths in US at 20th November, 2020 was: 254413\n"
                }
            ],
            "source": "print('Total Covid-19 Deaths in US at 20th November, 2020 was:', df_deaths_simple['Total_Deaths'].sum())"
        },
        {
            "cell_type": "code",
            "execution_count": 10,
            "metadata": {},
            "outputs": [],
            "source": "## Downloading Dataset from Covid-19 Cases in US"
        },
        {
            "cell_type": "code",
            "execution_count": 11,
            "metadata": {},
            "outputs": [
                {
                    "name": "stdout",
                    "output_type": "stream",
                    "text": "--2020-11-22 13:07:18--  https://raw.githubusercontent.com/CSSEGISandData/COVID-19/master/csse_covid_19_data/csse_covid_19_time_series/time_series_covid19_confirmed_US.csv\nResolving raw.githubusercontent.com (raw.githubusercontent.com)... 199.232.8.133\nConnecting to raw.githubusercontent.com (raw.githubusercontent.com)|199.232.8.133|:443... connected.\nHTTP request sent, awaiting response... 200 OK\nLength: 3599201 (3.4M) [text/plain]\nSaving to: \u2018time_series_covid19_confirmed_US.csv.3\u2019\n\ntime_series_covid19 100%[===================>]   3.43M  --.-KB/s    in 0.05s   \n\n2020-11-22 13:07:18 (66.6 MB/s) - \u2018time_series_covid19_confirmed_US.csv.3\u2019 saved [3599201/3599201]\n\n"
                }
            ],
            "source": "!wget https://raw.githubusercontent.com/CSSEGISandData/COVID-19/master/csse_covid_19_data/csse_covid_19_time_series/time_series_covid19_confirmed_US.csv"
        },
        {
            "cell_type": "code",
            "execution_count": 12,
            "metadata": {},
            "outputs": [
                {
                    "data": {
                        "text/html": "<div>\n<style scoped>\n    .dataframe tbody tr th:only-of-type {\n        vertical-align: middle;\n    }\n\n    .dataframe tbody tr th {\n        vertical-align: top;\n    }\n\n    .dataframe thead th {\n        text-align: right;\n    }\n</style>\n<table border=\"1\" class=\"dataframe\">\n  <thead>\n    <tr style=\"text-align: right;\">\n      <th></th>\n      <th>UID</th>\n      <th>iso2</th>\n      <th>iso3</th>\n      <th>code3</th>\n      <th>FIPS</th>\n      <th>Admin2</th>\n      <th>Province_State</th>\n      <th>Country_Region</th>\n      <th>Lat</th>\n      <th>Long_</th>\n      <th>...</th>\n      <th>11/12/20</th>\n      <th>11/13/20</th>\n      <th>11/14/20</th>\n      <th>11/15/20</th>\n      <th>11/16/20</th>\n      <th>11/17/20</th>\n      <th>11/18/20</th>\n      <th>11/19/20</th>\n      <th>11/20/20</th>\n      <th>11/21/20</th>\n    </tr>\n  </thead>\n  <tbody>\n    <tr>\n      <th>0</th>\n      <td>84001001</td>\n      <td>US</td>\n      <td>USA</td>\n      <td>840</td>\n      <td>1001.0</td>\n      <td>Autauga</td>\n      <td>Alabama</td>\n      <td>US</td>\n      <td>32.539527</td>\n      <td>-86.644082</td>\n      <td>...</td>\n      <td>2385</td>\n      <td>2417</td>\n      <td>2435</td>\n      <td>2456</td>\n      <td>2481</td>\n      <td>2506</td>\n      <td>2529</td>\n      <td>2554</td>\n      <td>2580</td>\n      <td>2597</td>\n    </tr>\n    <tr>\n      <th>1</th>\n      <td>84001003</td>\n      <td>US</td>\n      <td>USA</td>\n      <td>840</td>\n      <td>1003.0</td>\n      <td>Baldwin</td>\n      <td>Alabama</td>\n      <td>US</td>\n      <td>30.727750</td>\n      <td>-87.722071</td>\n      <td>...</td>\n      <td>7454</td>\n      <td>7523</td>\n      <td>7596</td>\n      <td>7646</td>\n      <td>7696</td>\n      <td>7772</td>\n      <td>7849</td>\n      <td>7933</td>\n      <td>8038</td>\n      <td>8131</td>\n    </tr>\n    <tr>\n      <th>2</th>\n      <td>84001005</td>\n      <td>US</td>\n      <td>USA</td>\n      <td>840</td>\n      <td>1005.0</td>\n      <td>Barbour</td>\n      <td>Alabama</td>\n      <td>US</td>\n      <td>31.868263</td>\n      <td>-85.387129</td>\n      <td>...</td>\n      <td>1113</td>\n      <td>1117</td>\n      <td>1123</td>\n      <td>1128</td>\n      <td>1130</td>\n      <td>1134</td>\n      <td>1137</td>\n      <td>1145</td>\n      <td>1151</td>\n      <td>1157</td>\n    </tr>\n    <tr>\n      <th>3</th>\n      <td>84001007</td>\n      <td>US</td>\n      <td>USA</td>\n      <td>840</td>\n      <td>1007.0</td>\n      <td>Bibb</td>\n      <td>Alabama</td>\n      <td>US</td>\n      <td>32.996421</td>\n      <td>-87.125115</td>\n      <td>...</td>\n      <td>966</td>\n      <td>973</td>\n      <td>978</td>\n      <td>986</td>\n      <td>993</td>\n      <td>1004</td>\n      <td>1008</td>\n      <td>1011</td>\n      <td>1024</td>\n      <td>1036</td>\n    </tr>\n    <tr>\n      <th>4</th>\n      <td>84001009</td>\n      <td>US</td>\n      <td>USA</td>\n      <td>840</td>\n      <td>1009.0</td>\n      <td>Blount</td>\n      <td>Alabama</td>\n      <td>US</td>\n      <td>33.982109</td>\n      <td>-86.567906</td>\n      <td>...</td>\n      <td>2429</td>\n      <td>2488</td>\n      <td>2518</td>\n      <td>2549</td>\n      <td>2574</td>\n      <td>2594</td>\n      <td>2648</td>\n      <td>2683</td>\n      <td>2704</td>\n      <td>2735</td>\n    </tr>\n  </tbody>\n</table>\n<p>5 rows \u00d7 316 columns</p>\n</div>",
                        "text/plain": "        UID iso2 iso3  code3    FIPS   Admin2 Province_State Country_Region  \\\n0  84001001   US  USA    840  1001.0  Autauga        Alabama             US   \n1  84001003   US  USA    840  1003.0  Baldwin        Alabama             US   \n2  84001005   US  USA    840  1005.0  Barbour        Alabama             US   \n3  84001007   US  USA    840  1007.0     Bibb        Alabama             US   \n4  84001009   US  USA    840  1009.0   Blount        Alabama             US   \n\n         Lat      Long_  ... 11/12/20  11/13/20  11/14/20  11/15/20  11/16/20  \\\n0  32.539527 -86.644082  ...     2385      2417      2435      2456      2481   \n1  30.727750 -87.722071  ...     7454      7523      7596      7646      7696   \n2  31.868263 -85.387129  ...     1113      1117      1123      1128      1130   \n3  32.996421 -87.125115  ...      966       973       978       986       993   \n4  33.982109 -86.567906  ...     2429      2488      2518      2549      2574   \n\n   11/17/20  11/18/20  11/19/20  11/20/20  11/21/20  \n0      2506      2529      2554      2580      2597  \n1      7772      7849      7933      8038      8131  \n2      1134      1137      1145      1151      1157  \n3      1004      1008      1011      1024      1036  \n4      2594      2648      2683      2704      2735  \n\n[5 rows x 316 columns]"
                    },
                    "execution_count": 12,
                    "metadata": {},
                    "output_type": "execute_result"
                }
            ],
            "source": "df_cases = pd.read_csv('time_series_covid19_confirmed_US.csv')\ndf_cases.head()"
        },
        {
            "cell_type": "code",
            "execution_count": 13,
            "metadata": {},
            "outputs": [
                {
                    "data": {
                        "text/plain": "(3340, 316)"
                    },
                    "execution_count": 13,
                    "metadata": {},
                    "output_type": "execute_result"
                }
            ],
            "source": "df_cases.shape"
        },
        {
            "cell_type": "code",
            "execution_count": 14,
            "metadata": {},
            "outputs": [
                {
                    "data": {
                        "text/html": "<div>\n<style scoped>\n    .dataframe tbody tr th:only-of-type {\n        vertical-align: middle;\n    }\n\n    .dataframe tbody tr th {\n        vertical-align: top;\n    }\n\n    .dataframe thead th {\n        text-align: right;\n    }\n</style>\n<table border=\"1\" class=\"dataframe\">\n  <thead>\n    <tr style=\"text-align: right;\">\n      <th></th>\n      <th>UID</th>\n      <th>iso2</th>\n      <th>iso3</th>\n      <th>code3</th>\n      <th>FIPS</th>\n      <th>City</th>\n      <th>Province_State</th>\n      <th>Country_Region</th>\n      <th>Lat</th>\n      <th>Long_</th>\n      <th>...</th>\n      <th>11/12/20</th>\n      <th>11/13/20</th>\n      <th>11/14/20</th>\n      <th>11/15/20</th>\n      <th>11/16/20</th>\n      <th>11/17/20</th>\n      <th>11/18/20</th>\n      <th>11/19/20</th>\n      <th>Total_Cases</th>\n      <th>11/21/20</th>\n    </tr>\n  </thead>\n  <tbody>\n    <tr>\n      <th>0</th>\n      <td>84001001</td>\n      <td>US</td>\n      <td>USA</td>\n      <td>840</td>\n      <td>1001.0</td>\n      <td>Autauga</td>\n      <td>Alabama</td>\n      <td>US</td>\n      <td>32.539527</td>\n      <td>-86.644082</td>\n      <td>...</td>\n      <td>2385</td>\n      <td>2417</td>\n      <td>2435</td>\n      <td>2456</td>\n      <td>2481</td>\n      <td>2506</td>\n      <td>2529</td>\n      <td>2554</td>\n      <td>2580</td>\n      <td>2597</td>\n    </tr>\n    <tr>\n      <th>1</th>\n      <td>84001003</td>\n      <td>US</td>\n      <td>USA</td>\n      <td>840</td>\n      <td>1003.0</td>\n      <td>Baldwin</td>\n      <td>Alabama</td>\n      <td>US</td>\n      <td>30.727750</td>\n      <td>-87.722071</td>\n      <td>...</td>\n      <td>7454</td>\n      <td>7523</td>\n      <td>7596</td>\n      <td>7646</td>\n      <td>7696</td>\n      <td>7772</td>\n      <td>7849</td>\n      <td>7933</td>\n      <td>8038</td>\n      <td>8131</td>\n    </tr>\n    <tr>\n      <th>2</th>\n      <td>84001005</td>\n      <td>US</td>\n      <td>USA</td>\n      <td>840</td>\n      <td>1005.0</td>\n      <td>Barbour</td>\n      <td>Alabama</td>\n      <td>US</td>\n      <td>31.868263</td>\n      <td>-85.387129</td>\n      <td>...</td>\n      <td>1113</td>\n      <td>1117</td>\n      <td>1123</td>\n      <td>1128</td>\n      <td>1130</td>\n      <td>1134</td>\n      <td>1137</td>\n      <td>1145</td>\n      <td>1151</td>\n      <td>1157</td>\n    </tr>\n    <tr>\n      <th>3</th>\n      <td>84001007</td>\n      <td>US</td>\n      <td>USA</td>\n      <td>840</td>\n      <td>1007.0</td>\n      <td>Bibb</td>\n      <td>Alabama</td>\n      <td>US</td>\n      <td>32.996421</td>\n      <td>-87.125115</td>\n      <td>...</td>\n      <td>966</td>\n      <td>973</td>\n      <td>978</td>\n      <td>986</td>\n      <td>993</td>\n      <td>1004</td>\n      <td>1008</td>\n      <td>1011</td>\n      <td>1024</td>\n      <td>1036</td>\n    </tr>\n    <tr>\n      <th>4</th>\n      <td>84001009</td>\n      <td>US</td>\n      <td>USA</td>\n      <td>840</td>\n      <td>1009.0</td>\n      <td>Blount</td>\n      <td>Alabama</td>\n      <td>US</td>\n      <td>33.982109</td>\n      <td>-86.567906</td>\n      <td>...</td>\n      <td>2429</td>\n      <td>2488</td>\n      <td>2518</td>\n      <td>2549</td>\n      <td>2574</td>\n      <td>2594</td>\n      <td>2648</td>\n      <td>2683</td>\n      <td>2704</td>\n      <td>2735</td>\n    </tr>\n  </tbody>\n</table>\n<p>5 rows \u00d7 316 columns</p>\n</div>",
                        "text/plain": "        UID iso2 iso3  code3    FIPS     City Province_State Country_Region  \\\n0  84001001   US  USA    840  1001.0  Autauga        Alabama             US   \n1  84001003   US  USA    840  1003.0  Baldwin        Alabama             US   \n2  84001005   US  USA    840  1005.0  Barbour        Alabama             US   \n3  84001007   US  USA    840  1007.0     Bibb        Alabama             US   \n4  84001009   US  USA    840  1009.0   Blount        Alabama             US   \n\n         Lat      Long_  ... 11/12/20  11/13/20  11/14/20  11/15/20  11/16/20  \\\n0  32.539527 -86.644082  ...     2385      2417      2435      2456      2481   \n1  30.727750 -87.722071  ...     7454      7523      7596      7646      7696   \n2  31.868263 -85.387129  ...     1113      1117      1123      1128      1130   \n3  32.996421 -87.125115  ...      966       973       978       986       993   \n4  33.982109 -86.567906  ...     2429      2488      2518      2549      2574   \n\n   11/17/20  11/18/20  11/19/20  Total_Cases  11/21/20  \n0      2506      2529      2554         2580      2597  \n1      7772      7849      7933         8038      8131  \n2      1134      1137      1145         1151      1157  \n3      1004      1008      1011         1024      1036  \n4      2594      2648      2683         2704      2735  \n\n[5 rows x 316 columns]"
                    },
                    "execution_count": 14,
                    "metadata": {},
                    "output_type": "execute_result"
                }
            ],
            "source": "df_cases.rename(columns = {'Admin2':'City','11/20/20':'Total_Cases'}, inplace = True)\ndf_cases.head()"
        },
        {
            "cell_type": "code",
            "execution_count": 15,
            "metadata": {},
            "outputs": [
                {
                    "data": {
                        "text/html": "<div>\n<style scoped>\n    .dataframe tbody tr th:only-of-type {\n        vertical-align: middle;\n    }\n\n    .dataframe tbody tr th {\n        vertical-align: top;\n    }\n\n    .dataframe thead th {\n        text-align: right;\n    }\n</style>\n<table border=\"1\" class=\"dataframe\">\n  <thead>\n    <tr style=\"text-align: right;\">\n      <th></th>\n      <th>City</th>\n      <th>Province_State</th>\n      <th>Lat</th>\n      <th>Long_</th>\n      <th>Total_Cases</th>\n    </tr>\n  </thead>\n  <tbody>\n    <tr>\n      <th>0</th>\n      <td>Autauga</td>\n      <td>Alabama</td>\n      <td>32.539527</td>\n      <td>-86.644082</td>\n      <td>2580</td>\n    </tr>\n    <tr>\n      <th>1</th>\n      <td>Baldwin</td>\n      <td>Alabama</td>\n      <td>30.727750</td>\n      <td>-87.722071</td>\n      <td>8038</td>\n    </tr>\n    <tr>\n      <th>2</th>\n      <td>Barbour</td>\n      <td>Alabama</td>\n      <td>31.868263</td>\n      <td>-85.387129</td>\n      <td>1151</td>\n    </tr>\n    <tr>\n      <th>3</th>\n      <td>Bibb</td>\n      <td>Alabama</td>\n      <td>32.996421</td>\n      <td>-87.125115</td>\n      <td>1024</td>\n    </tr>\n    <tr>\n      <th>4</th>\n      <td>Blount</td>\n      <td>Alabama</td>\n      <td>33.982109</td>\n      <td>-86.567906</td>\n      <td>2704</td>\n    </tr>\n  </tbody>\n</table>\n</div>",
                        "text/plain": "      City Province_State        Lat      Long_  Total_Cases\n0  Autauga        Alabama  32.539527 -86.644082         2580\n1  Baldwin        Alabama  30.727750 -87.722071         8038\n2  Barbour        Alabama  31.868263 -85.387129         1151\n3     Bibb        Alabama  32.996421 -87.125115         1024\n4   Blount        Alabama  33.982109 -86.567906         2704"
                    },
                    "execution_count": 15,
                    "metadata": {},
                    "output_type": "execute_result"
                }
            ],
            "source": "df_cases_simple = df_cases[['City','Province_State','Lat','Long_', 'Total_Cases' ]]\ndf_cases_simple.head()"
        },
        {
            "cell_type": "code",
            "execution_count": 16,
            "metadata": {},
            "outputs": [
                {
                    "name": "stdout",
                    "output_type": "stream",
                    "text": "Total Covid-19 Cases in US at 20 th November, 2020 was: 11910858\n"
                }
            ],
            "source": "print('Total Covid-19 Cases in US at 20 th November, 2020 was:', df_cases_simple['Total_Cases'].sum())"
        },
        {
            "cell_type": "code",
            "execution_count": 17,
            "metadata": {},
            "outputs": [],
            "source": "## Merging the datasets"
        },
        {
            "cell_type": "code",
            "execution_count": 18,
            "metadata": {},
            "outputs": [
                {
                    "data": {
                        "text/html": "<div>\n<style scoped>\n    .dataframe tbody tr th:only-of-type {\n        vertical-align: middle;\n    }\n\n    .dataframe tbody tr th {\n        vertical-align: top;\n    }\n\n    .dataframe thead th {\n        text-align: right;\n    }\n</style>\n<table border=\"1\" class=\"dataframe\">\n  <thead>\n    <tr style=\"text-align: right;\">\n      <th></th>\n      <th>City</th>\n      <th>Province_State</th>\n      <th>Lat</th>\n      <th>Long_</th>\n      <th>Total_Deaths</th>\n      <th>Total_Cases</th>\n    </tr>\n  </thead>\n  <tbody>\n    <tr>\n      <th>0</th>\n      <td>Autauga</td>\n      <td>Alabama</td>\n      <td>32.539527</td>\n      <td>-86.644082</td>\n      <td>39</td>\n      <td>2580</td>\n    </tr>\n    <tr>\n      <th>1</th>\n      <td>Baldwin</td>\n      <td>Alabama</td>\n      <td>30.727750</td>\n      <td>-87.722071</td>\n      <td>84</td>\n      <td>8038</td>\n    </tr>\n    <tr>\n      <th>2</th>\n      <td>Barbour</td>\n      <td>Alabama</td>\n      <td>31.868263</td>\n      <td>-85.387129</td>\n      <td>10</td>\n      <td>1151</td>\n    </tr>\n    <tr>\n      <th>3</th>\n      <td>Bibb</td>\n      <td>Alabama</td>\n      <td>32.996421</td>\n      <td>-87.125115</td>\n      <td>18</td>\n      <td>1024</td>\n    </tr>\n    <tr>\n      <th>4</th>\n      <td>Blount</td>\n      <td>Alabama</td>\n      <td>33.982109</td>\n      <td>-86.567906</td>\n      <td>35</td>\n      <td>2704</td>\n    </tr>\n  </tbody>\n</table>\n</div>",
                        "text/plain": "      City Province_State        Lat      Long_  Total_Deaths  Total_Cases\n0  Autauga        Alabama  32.539527 -86.644082            39         2580\n1  Baldwin        Alabama  30.727750 -87.722071            84         8038\n2  Barbour        Alabama  31.868263 -85.387129            10         1151\n3     Bibb        Alabama  32.996421 -87.125115            18         1024\n4   Blount        Alabama  33.982109 -86.567906            35         2704"
                    },
                    "execution_count": 18,
                    "metadata": {},
                    "output_type": "execute_result"
                }
            ],
            "source": "df_rate = pd.merge(df_deaths_simple, df_cases_simple)\ndf_rate.head()"
        },
        {
            "cell_type": "code",
            "execution_count": 19,
            "metadata": {},
            "outputs": [],
            "source": "## Finding Death Rate for each city"
        },
        {
            "cell_type": "code",
            "execution_count": 20,
            "metadata": {},
            "outputs": [
                {
                    "data": {
                        "text/html": "<div>\n<style scoped>\n    .dataframe tbody tr th:only-of-type {\n        vertical-align: middle;\n    }\n\n    .dataframe tbody tr th {\n        vertical-align: top;\n    }\n\n    .dataframe thead th {\n        text-align: right;\n    }\n</style>\n<table border=\"1\" class=\"dataframe\">\n  <thead>\n    <tr style=\"text-align: right;\">\n      <th></th>\n      <th>City</th>\n      <th>Province_State</th>\n      <th>Lat</th>\n      <th>Long_</th>\n      <th>Total_Deaths</th>\n      <th>Total_Cases</th>\n      <th>death_ratio</th>\n    </tr>\n  </thead>\n  <tbody>\n    <tr>\n      <th>0</th>\n      <td>Autauga</td>\n      <td>Alabama</td>\n      <td>32.539527</td>\n      <td>-86.644082</td>\n      <td>39</td>\n      <td>2580</td>\n      <td>1.511628</td>\n    </tr>\n    <tr>\n      <th>1</th>\n      <td>Baldwin</td>\n      <td>Alabama</td>\n      <td>30.727750</td>\n      <td>-87.722071</td>\n      <td>84</td>\n      <td>8038</td>\n      <td>1.045036</td>\n    </tr>\n    <tr>\n      <th>2</th>\n      <td>Barbour</td>\n      <td>Alabama</td>\n      <td>31.868263</td>\n      <td>-85.387129</td>\n      <td>10</td>\n      <td>1151</td>\n      <td>0.868810</td>\n    </tr>\n    <tr>\n      <th>3</th>\n      <td>Bibb</td>\n      <td>Alabama</td>\n      <td>32.996421</td>\n      <td>-87.125115</td>\n      <td>18</td>\n      <td>1024</td>\n      <td>1.757812</td>\n    </tr>\n    <tr>\n      <th>4</th>\n      <td>Blount</td>\n      <td>Alabama</td>\n      <td>33.982109</td>\n      <td>-86.567906</td>\n      <td>35</td>\n      <td>2704</td>\n      <td>1.294379</td>\n    </tr>\n  </tbody>\n</table>\n</div>",
                        "text/plain": "      City Province_State        Lat      Long_  Total_Deaths  Total_Cases  \\\n0  Autauga        Alabama  32.539527 -86.644082            39         2580   \n1  Baldwin        Alabama  30.727750 -87.722071            84         8038   \n2  Barbour        Alabama  31.868263 -85.387129            10         1151   \n3     Bibb        Alabama  32.996421 -87.125115            18         1024   \n4   Blount        Alabama  33.982109 -86.567906            35         2704   \n\n   death_ratio  \n0     1.511628  \n1     1.045036  \n2     0.868810  \n3     1.757812  \n4     1.294379  "
                    },
                    "execution_count": 20,
                    "metadata": {},
                    "output_type": "execute_result"
                }
            ],
            "source": "df_rate['death_ratio']= df_rate['Total_Deaths']/df_rate['Total_Cases']*100\ndf_rate.head()"
        },
        {
            "cell_type": "code",
            "execution_count": 21,
            "metadata": {},
            "outputs": [
                {
                    "data": {
                        "text/plain": "(3034, 7)"
                    },
                    "execution_count": 21,
                    "metadata": {},
                    "output_type": "execute_result"
                }
            ],
            "source": "df_rate.shape"
        },
        {
            "cell_type": "code",
            "execution_count": 22,
            "metadata": {},
            "outputs": [],
            "source": "## Ignoring Cells without coordinates information"
        },
        {
            "cell_type": "code",
            "execution_count": 23,
            "metadata": {},
            "outputs": [
                {
                    "data": {
                        "text/plain": "(2926, 7)"
                    },
                    "execution_count": 23,
                    "metadata": {},
                    "output_type": "execute_result"
                }
            ],
            "source": "Change = df_rate['Lat'] != 0.0\ndf_rate_ok = df_rate[Change]\ndf_rate_ok.shape"
        },
        {
            "cell_type": "code",
            "execution_count": 24,
            "metadata": {},
            "outputs": [],
            "source": "## Selecting 100 cities with largest number of deaths"
        },
        {
            "cell_type": "code",
            "execution_count": 25,
            "metadata": {},
            "outputs": [
                {
                    "data": {
                        "text/html": "<div>\n<style scoped>\n    .dataframe tbody tr th:only-of-type {\n        vertical-align: middle;\n    }\n\n    .dataframe tbody tr th {\n        vertical-align: top;\n    }\n\n    .dataframe thead th {\n        text-align: right;\n    }\n</style>\n<table border=\"1\" class=\"dataframe\">\n  <thead>\n    <tr style=\"text-align: right;\">\n      <th></th>\n      <th>City</th>\n      <th>Province_State</th>\n      <th>Lat</th>\n      <th>Long_</th>\n      <th>Total_Deaths</th>\n      <th>Total_Cases</th>\n      <th>death_ratio</th>\n    </tr>\n  </thead>\n  <tbody>\n    <tr>\n      <th>1781</th>\n      <td>Queens</td>\n      <td>New York</td>\n      <td>40.710881</td>\n      <td>-73.816847</td>\n      <td>7335</td>\n      <td>84843</td>\n      <td>8.645380</td>\n    </tr>\n    <tr>\n      <th>576</th>\n      <td>Cook</td>\n      <td>Illinois</td>\n      <td>41.841448</td>\n      <td>-87.816588</td>\n      <td>6201</td>\n      <td>272733</td>\n      <td>2.273652</td>\n    </tr>\n    <tr>\n      <th>1744</th>\n      <td>Bronx</td>\n      <td>New York</td>\n      <td>40.852093</td>\n      <td>-73.862828</td>\n      <td>5029</td>\n      <td>60233</td>\n      <td>8.349244</td>\n    </tr>\n    <tr>\n      <th>328</th>\n      <td>Miami-Dade</td>\n      <td>Florida</td>\n      <td>25.611236</td>\n      <td>-80.551706</td>\n      <td>3746</td>\n      <td>211257</td>\n      <td>1.773196</td>\n    </tr>\n    <tr>\n      <th>1770</th>\n      <td>New York</td>\n      <td>New York</td>\n      <td>40.767273</td>\n      <td>-73.971526</td>\n      <td>3218</td>\n      <td>41620</td>\n      <td>7.731860</td>\n    </tr>\n    <tr>\n      <th>...</th>\n      <td>...</td>\n      <td>...</td>\n      <td>...</td>\n      <td>...</td>\n      <td>...</td>\n      <td>...</td>\n      <td>...</td>\n    </tr>\n    <tr>\n      <th>1071</th>\n      <td>Caddo</td>\n      <td>Louisiana</td>\n      <td>32.579916</td>\n      <td>-93.883757</td>\n      <td>434</td>\n      <td>12329</td>\n      <td>3.520156</td>\n    </tr>\n    <tr>\n      <th>605</th>\n      <td>Kane</td>\n      <td>Illinois</td>\n      <td>41.938427</td>\n      <td>-88.428614</td>\n      <td>431</td>\n      <td>28225</td>\n      <td>1.527015</td>\n    </tr>\n    <tr>\n      <th>1863</th>\n      <td>Mecklenburg</td>\n      <td>North Carolina</td>\n      <td>35.244693</td>\n      <td>-80.831767</td>\n      <td>427</td>\n      <td>39880</td>\n      <td>1.070712</td>\n    </tr>\n    <tr>\n      <th>221</th>\n      <td>Arapahoe</td>\n      <td>Colorado</td>\n      <td>39.649775</td>\n      <td>-104.335362</td>\n      <td>426</td>\n      <td>22728</td>\n      <td>1.874340</td>\n    </tr>\n    <tr>\n      <th>997</th>\n      <td>Jefferson</td>\n      <td>Kentucky</td>\n      <td>38.186647</td>\n      <td>-85.659310</td>\n      <td>425</td>\n      <td>32073</td>\n      <td>1.325102</td>\n    </tr>\n  </tbody>\n</table>\n<p>100 rows \u00d7 7 columns</p>\n</div>",
                        "text/plain": "             City  Province_State        Lat       Long_  Total_Deaths  \\\n1781       Queens        New York  40.710881  -73.816847          7335   \n576          Cook        Illinois  41.841448  -87.816588          6201   \n1744        Bronx        New York  40.852093  -73.862828          5029   \n328    Miami-Dade         Florida  25.611236  -80.551706          3746   \n1770     New York        New York  40.767273  -73.971526          3218   \n...           ...             ...        ...         ...           ...   \n1071        Caddo       Louisiana  32.579916  -93.883757           434   \n605          Kane        Illinois  41.938427  -88.428614           431   \n1863  Mecklenburg  North Carolina  35.244693  -80.831767           427   \n221      Arapahoe        Colorado  39.649775 -104.335362           426   \n997     Jefferson        Kentucky  38.186647  -85.659310           425   \n\n      Total_Cases  death_ratio  \n1781        84843     8.645380  \n576        272733     2.273652  \n1744        60233     8.349244  \n328        211257     1.773196  \n1770        41620     7.731860  \n...           ...          ...  \n1071        12329     3.520156  \n605         28225     1.527015  \n1863        39880     1.070712  \n221         22728     1.874340  \n997         32073     1.325102  \n\n[100 rows x 7 columns]"
                    },
                    "execution_count": 25,
                    "metadata": {},
                    "output_type": "execute_result"
                }
            ],
            "source": "df_rate_ok = df_rate_ok.sort_values('Total_Deaths', ascending = False)\ndf_rate_100 = df_rate_ok.head(100)\ndf_rate_100"
        },
        {
            "cell_type": "markdown",
            "metadata": {},
            "source": "## Part 2: Bringin the Geospatial Localization Information"
        },
        {
            "cell_type": "code",
            "execution_count": 26,
            "metadata": {},
            "outputs": [],
            "source": "## Importin another necessary libraries"
        },
        {
            "cell_type": "code",
            "execution_count": 27,
            "metadata": {},
            "outputs": [],
            "source": "import numpy as np\nimport matplotlib.pyplot as plt\nimport json # library to handle JSON files\nimport requests # library to handle requests\nfrom pandas.io.json import json_normalize # tranform JSON file into a pandas dataframe"
        },
        {
            "cell_type": "code",
            "execution_count": 28,
            "metadata": {},
            "outputs": [],
            "source": "## Foursquare Acess"
        },
        {
            "cell_type": "code",
            "execution_count": 29,
            "metadata": {},
            "outputs": [
                {
                    "name": "stdout",
                    "output_type": "stream",
                    "text": "My credentails:\nCLIENT_ID: FYXMXLXZLZUIBCMGCLCW1OYG4BCBNWMNZGQOADNWNOU43OVH\nCLIENT_SECRET:SVHXAGV43TH5MCRMJMMCTFW55R1GQXBQM2IW52BFO1SSF1R1\n"
                }
            ],
            "source": "CLIENT_ID = 'FYXMXLXZLZUIBCMGCLCW1OYG4BCBNWMNZGQOADNWNOU43OVH' # My Foursquare ID\nCLIENT_SECRET = 'SVHXAGV43TH5MCRMJMMCTFW55R1GQXBQM2IW52BFO1SSF1R1' # My Foursquare Secret\nVERSION = '20201120' # Foursquare API version - Date when it have been used\nLIMIT = 100 \n\nprint('My credentails:')\nprint('CLIENT_ID: ' + CLIENT_ID)\nprint('CLIENT_SECRET:' + CLIENT_SECRET)"
        },
        {
            "cell_type": "code",
            "execution_count": 30,
            "metadata": {},
            "outputs": [],
            "source": "LIMIT = 100\nradius = 6000"
        },
        {
            "cell_type": "code",
            "execution_count": 31,
            "metadata": {},
            "outputs": [],
            "source": "def getNearbyHospitals(names, latitudes, longitudes, radius=6000):\n    \n    venues_list=[]\n    for City, Lat, Long_ in zip(names, latitudes, longitudes):\n        print(City)\n            \n        # create the API request URL\n        url = 'https://api.foursquare.com/v2/venues/explore?&query=hospital&client_id={}&client_secret={}&v={}&ll={},{}&radius={}&limit={}'.format(\n            CLIENT_ID, \n            CLIENT_SECRET, \n            VERSION, \n            Lat, \n            Long_, \n            radius, \n            LIMIT)\n            \n        # make the GET request\n        results = requests.get(url).json()[\"response\"]['groups'][0]['items']\n        \n        # return only relevant information for each nearby venue\n        venues_list.append([(\n            City, \n            Lat, \n            Long_, \n            v['venue']['name'], \n            v['venue']['location']['lat'], \n            v['venue']['location']['lng'],  \n            v['venue']['categories'][0]['name']) for v in results])\n        \n    nearby_venues = pd.DataFrame([item for venue_list in venues_list for item in venue_list])\n    nearby_venues.columns = ['City', \n                  'City Latitude', \n                  'City Longitude', \n                  'Venue', \n                  'Venue Latitude', \n                  'Venue Longitude', \n                  'Venue Category']\n    \n    return(nearby_venues)"
        },
        {
            "cell_type": "code",
            "execution_count": 32,
            "metadata": {},
            "outputs": [
                {
                    "name": "stdout",
                    "output_type": "stream",
                    "text": "Queens\nCook\nBronx\nMiami-Dade\nNew York\nWayne\nHarris\nMiddlesex\nNassau\nEssex\nBergen\nSuffolk\nHidalgo\nPhiladelphia\nClark\nPalm Beach\nBroward\nHudson\nHartford\nOrange\nWestchester\nMiddlesex\nFairfield\nBexar\nUnion\nEssex\nRiverside\nOakland\nPassaic\nWorcester\nMacomb\nNorfolk\nSan Bernardino\nRichmond\nCameron\nOcean\nHennepin\nProvidence\nTarrant\nSt. Louis\nMontgomery\nMontgomery\nPrince George's\nHillsborough\nMonmouth\nPlymouth\nHampden\nPinellas\nMorris\nKing\nMarion\nBristol\nDelaware\nErie\nDuPage\nCuyahoga\nBaltimore\nMilwaukee\nRockland\nFulton\nPima\nDistrict of Columbia\nFranklin\nCamden\nPolk\nBucks\nMercer\nOrleans\nShelby\nJefferson\nOrange\nFairfax\nSomerset\nLake\nDuval\nLee\nBaltimore City\nBurlington\nWill\nOrange\nGwinnett\nLancaster\nSan Joaquin\nCobb\nAlameda\nEast Baton Rouge\nJefferson\nFresno\nNueces\nAllegheny\nSanta Clara\nRamsey\nBerks\nDeKalb\nLake\nCaddo\nKane\nMecklenburg\nArapahoe\nJefferson\n"
                }
            ],
            "source": "US_venues = getNearbyHospitals(names=df_rate_100['City'],\n                            latitudes=df_rate_100['Lat'],\n                            longitudes=df_rate_100['Long_'])"
        },
        {
            "cell_type": "code",
            "execution_count": 33,
            "metadata": {},
            "outputs": [
                {
                    "data": {
                        "text/html": "<div>\n<style scoped>\n    .dataframe tbody tr th:only-of-type {\n        vertical-align: middle;\n    }\n\n    .dataframe tbody tr th {\n        vertical-align: top;\n    }\n\n    .dataframe thead th {\n        text-align: right;\n    }\n</style>\n<table border=\"1\" class=\"dataframe\">\n  <thead>\n    <tr style=\"text-align: right;\">\n      <th></th>\n      <th>City</th>\n      <th>City Latitude</th>\n      <th>City Longitude</th>\n      <th>Venue</th>\n      <th>Venue Latitude</th>\n      <th>Venue Longitude</th>\n      <th>Venue Category</th>\n    </tr>\n  </thead>\n  <tbody>\n    <tr>\n      <th>0</th>\n      <td>Queens</td>\n      <td>40.710881</td>\n      <td>-73.816847</td>\n      <td>Jamaica Hospital Medical Center</td>\n      <td>40.700428</td>\n      <td>-73.816430</td>\n      <td>Hospital</td>\n    </tr>\n    <tr>\n      <th>1</th>\n      <td>Queens</td>\n      <td>40.710881</td>\n      <td>-73.816847</td>\n      <td>Queens Hospital Center</td>\n      <td>40.717176</td>\n      <td>-73.804135</td>\n      <td>Hospital</td>\n    </tr>\n    <tr>\n      <th>2</th>\n      <td>Queens</td>\n      <td>40.710881</td>\n      <td>-73.816847</td>\n      <td>NewYork-Presbyterian Queens</td>\n      <td>40.747248</td>\n      <td>-73.825336</td>\n      <td>Hospital</td>\n    </tr>\n    <tr>\n      <th>3</th>\n      <td>Queens</td>\n      <td>40.710881</td>\n      <td>-73.816847</td>\n      <td>Long Island Jewish Forest Hills Hospital</td>\n      <td>40.729062</td>\n      <td>-73.851625</td>\n      <td>Hospital</td>\n    </tr>\n    <tr>\n      <th>4</th>\n      <td>Queens</td>\n      <td>40.710881</td>\n      <td>-73.816847</td>\n      <td>Jamaica Hospital Occupational Health Office</td>\n      <td>40.702470</td>\n      <td>-73.817748</td>\n      <td>Hospital</td>\n    </tr>\n  </tbody>\n</table>\n</div>",
                        "text/plain": "     City  City Latitude  City Longitude  \\\n0  Queens      40.710881      -73.816847   \n1  Queens      40.710881      -73.816847   \n2  Queens      40.710881      -73.816847   \n3  Queens      40.710881      -73.816847   \n4  Queens      40.710881      -73.816847   \n\n                                         Venue  Venue Latitude  \\\n0              Jamaica Hospital Medical Center       40.700428   \n1                       Queens Hospital Center       40.717176   \n2                  NewYork-Presbyterian Queens       40.747248   \n3     Long Island Jewish Forest Hills Hospital       40.729062   \n4  Jamaica Hospital Occupational Health Office       40.702470   \n\n   Venue Longitude Venue Category  \n0       -73.816430       Hospital  \n1       -73.804135       Hospital  \n2       -73.825336       Hospital  \n3       -73.851625       Hospital  \n4       -73.817748       Hospital  "
                    },
                    "execution_count": 33,
                    "metadata": {},
                    "output_type": "execute_result"
                }
            ],
            "source": "US_venues.head()"
        },
        {
            "cell_type": "code",
            "execution_count": 34,
            "metadata": {},
            "outputs": [
                {
                    "data": {
                        "text/plain": "(3086, 7)"
                    },
                    "execution_count": 34,
                    "metadata": {},
                    "output_type": "execute_result"
                }
            ],
            "source": "US_venues.shape"
        },
        {
            "cell_type": "code",
            "execution_count": 35,
            "metadata": {},
            "outputs": [],
            "source": "df_hospitals = US_venues.groupby('City Latitude').count()"
        },
        {
            "cell_type": "code",
            "execution_count": 36,
            "metadata": {},
            "outputs": [
                {
                    "data": {
                        "text/html": "<div>\n<style scoped>\n    .dataframe tbody tr th:only-of-type {\n        vertical-align: middle;\n    }\n\n    .dataframe tbody tr th {\n        vertical-align: top;\n    }\n\n    .dataframe thead th {\n        text-align: right;\n    }\n</style>\n<table border=\"1\" class=\"dataframe\">\n  <thead>\n    <tr style=\"text-align: right;\">\n      <th></th>\n      <th>City</th>\n      <th>City Longitude</th>\n      <th>Venue</th>\n      <th>Venue Latitude</th>\n      <th>Venue Longitude</th>\n      <th>Venue Category</th>\n    </tr>\n    <tr>\n      <th>City Latitude</th>\n      <th></th>\n      <th></th>\n      <th></th>\n      <th></th>\n      <th></th>\n      <th></th>\n    </tr>\n  </thead>\n  <tbody>\n    <tr>\n      <th>26.584103</th>\n      <td>23</td>\n      <td>23</td>\n      <td>23</td>\n      <td>23</td>\n      <td>23</td>\n      <td>23</td>\n    </tr>\n    <tr>\n      <th>27.927656</th>\n      <td>51</td>\n      <td>51</td>\n      <td>51</td>\n      <td>51</td>\n      <td>51</td>\n      <td>51</td>\n    </tr>\n    <tr>\n      <th>27.931303</th>\n      <td>14</td>\n      <td>14</td>\n      <td>14</td>\n      <td>14</td>\n      <td>14</td>\n      <td>14</td>\n    </tr>\n    <tr>\n      <th>27.950271</th>\n      <td>1</td>\n      <td>1</td>\n      <td>1</td>\n      <td>1</td>\n      <td>1</td>\n      <td>1</td>\n    </tr>\n    <tr>\n      <th>28.513676</th>\n      <td>67</td>\n      <td>67</td>\n      <td>67</td>\n      <td>67</td>\n      <td>67</td>\n      <td>67</td>\n    </tr>\n    <tr>\n      <th>...</th>\n      <td>...</td>\n      <td>...</td>\n      <td>...</td>\n      <td>...</td>\n      <td>...</td>\n      <td>...</td>\n    </tr>\n    <tr>\n      <th>42.762490</th>\n      <td>4</td>\n      <td>4</td>\n      <td>4</td>\n      <td>4</td>\n      <td>4</td>\n      <td>4</td>\n    </tr>\n    <tr>\n      <th>43.004861</th>\n      <td>100</td>\n      <td>100</td>\n      <td>100</td>\n      <td>100</td>\n      <td>100</td>\n      <td>100</td>\n    </tr>\n    <tr>\n      <th>45.007615</th>\n      <td>5</td>\n      <td>5</td>\n      <td>5</td>\n      <td>5</td>\n      <td>5</td>\n      <td>5</td>\n    </tr>\n    <tr>\n      <th>45.016253</th>\n      <td>13</td>\n      <td>13</td>\n      <td>13</td>\n      <td>13</td>\n      <td>13</td>\n      <td>13</td>\n    </tr>\n    <tr>\n      <th>47.491379</th>\n      <td>2</td>\n      <td>2</td>\n      <td>2</td>\n      <td>2</td>\n      <td>2</td>\n      <td>2</td>\n    </tr>\n  </tbody>\n</table>\n<p>81 rows \u00d7 6 columns</p>\n</div>",
                        "text/plain": "               City  City Longitude  Venue  Venue Latitude  Venue Longitude  \\\nCity Latitude                                                                 \n26.584103        23              23     23              23               23   \n27.927656        51              51     51              51               51   \n27.931303        14              14     14              14               14   \n27.950271         1               1      1               1                1   \n28.513676        67              67     67              67               67   \n...             ...             ...    ...             ...              ...   \n42.762490         4               4      4               4                4   \n43.004861       100             100    100             100              100   \n45.007615         5               5      5               5                5   \n45.016253        13              13     13              13               13   \n47.491379         2               2      2               2                2   \n\n               Venue Category  \nCity Latitude                  \n26.584103                  23  \n27.927656                  51  \n27.931303                  14  \n27.950271                   1  \n28.513676                  67  \n...                       ...  \n42.762490                   4  \n43.004861                 100  \n45.007615                   5  \n45.016253                  13  \n47.491379                   2  \n\n[81 rows x 6 columns]"
                    },
                    "execution_count": 36,
                    "metadata": {},
                    "output_type": "execute_result"
                }
            ],
            "source": "df_hospitals"
        },
        {
            "cell_type": "code",
            "execution_count": 37,
            "metadata": {},
            "outputs": [
                {
                    "data": {
                        "text/plain": "(81, 1)"
                    },
                    "execution_count": 37,
                    "metadata": {},
                    "output_type": "execute_result"
                }
            ],
            "source": "df_hospitals1 = df_hospitals[['Venue']]\ndf_hospitals1.shape"
        },
        {
            "cell_type": "code",
            "execution_count": 38,
            "metadata": {},
            "outputs": [
                {
                    "data": {
                        "text/html": "<div>\n<style scoped>\n    .dataframe tbody tr th:only-of-type {\n        vertical-align: middle;\n    }\n\n    .dataframe tbody tr th {\n        vertical-align: top;\n    }\n\n    .dataframe thead th {\n        text-align: right;\n    }\n</style>\n<table border=\"1\" class=\"dataframe\">\n  <thead>\n    <tr style=\"text-align: right;\">\n      <th></th>\n      <th>Venue</th>\n    </tr>\n    <tr>\n      <th>City Latitude</th>\n      <th></th>\n    </tr>\n  </thead>\n  <tbody>\n    <tr>\n      <th>26.584103</th>\n      <td>23</td>\n    </tr>\n    <tr>\n      <th>27.927656</th>\n      <td>51</td>\n    </tr>\n    <tr>\n      <th>27.931303</th>\n      <td>14</td>\n    </tr>\n    <tr>\n      <th>27.950271</th>\n      <td>1</td>\n    </tr>\n    <tr>\n      <th>28.513676</th>\n      <td>67</td>\n    </tr>\n    <tr>\n      <th>...</th>\n      <td>...</td>\n    </tr>\n    <tr>\n      <th>42.762490</th>\n      <td>4</td>\n    </tr>\n    <tr>\n      <th>43.004861</th>\n      <td>100</td>\n    </tr>\n    <tr>\n      <th>45.007615</th>\n      <td>5</td>\n    </tr>\n    <tr>\n      <th>45.016253</th>\n      <td>13</td>\n    </tr>\n    <tr>\n      <th>47.491379</th>\n      <td>2</td>\n    </tr>\n  </tbody>\n</table>\n<p>81 rows \u00d7 1 columns</p>\n</div>",
                        "text/plain": "               Venue\nCity Latitude       \n26.584103         23\n27.927656         51\n27.931303         14\n27.950271          1\n28.513676         67\n...              ...\n42.762490          4\n43.004861        100\n45.007615          5\n45.016253         13\n47.491379          2\n\n[81 rows x 1 columns]"
                    },
                    "execution_count": 38,
                    "metadata": {},
                    "output_type": "execute_result"
                }
            ],
            "source": "df_hospitals1"
        },
        {
            "cell_type": "code",
            "execution_count": 39,
            "metadata": {},
            "outputs": [
                {
                    "name": "stderr",
                    "output_type": "stream",
                    "text": "/opt/conda/envs/Python-3.7-main/lib/python3.7/site-packages/pandas/core/frame.py:4133: SettingWithCopyWarning: \nA value is trying to be set on a copy of a slice from a DataFrame\n\nSee the caveats in the documentation: https://pandas.pydata.org/pandas-docs/stable/user_guide/indexing.html#returning-a-view-versus-a-copy\n  errors=errors,\n"
                }
            ],
            "source": "df_hospitals1.rename(columns={'Venue':'Number_of_Near_Hospitals'}, inplace = True)"
        },
        {
            "cell_type": "code",
            "execution_count": 40,
            "metadata": {},
            "outputs": [
                {
                    "data": {
                        "text/plain": "(100, 7)"
                    },
                    "execution_count": 40,
                    "metadata": {},
                    "output_type": "execute_result"
                }
            ],
            "source": "df_rate_100.shape"
        },
        {
            "cell_type": "code",
            "execution_count": 41,
            "metadata": {},
            "outputs": [],
            "source": "### Merging dataframes to bring Number of Hospitals information for the main dataframe"
        },
        {
            "cell_type": "code",
            "execution_count": 42,
            "metadata": {},
            "outputs": [
                {
                    "data": {
                        "text/html": "<div>\n<style scoped>\n    .dataframe tbody tr th:only-of-type {\n        vertical-align: middle;\n    }\n\n    .dataframe tbody tr th {\n        vertical-align: top;\n    }\n\n    .dataframe thead th {\n        text-align: right;\n    }\n</style>\n<table border=\"1\" class=\"dataframe\">\n  <thead>\n    <tr style=\"text-align: right;\">\n      <th></th>\n      <th>City</th>\n      <th>Province_State</th>\n      <th>Lat</th>\n      <th>Long_</th>\n      <th>Total_Deaths</th>\n      <th>Total_Cases</th>\n      <th>death_ratio</th>\n      <th>Number_of_Near_Hospitals</th>\n    </tr>\n  </thead>\n  <tbody>\n    <tr>\n      <th>0</th>\n      <td>Queens</td>\n      <td>New York</td>\n      <td>40.710881</td>\n      <td>-73.816847</td>\n      <td>7335</td>\n      <td>84843</td>\n      <td>8.645380</td>\n      <td>100.0</td>\n    </tr>\n    <tr>\n      <th>1</th>\n      <td>Cook</td>\n      <td>Illinois</td>\n      <td>41.841448</td>\n      <td>-87.816588</td>\n      <td>6201</td>\n      <td>272733</td>\n      <td>2.273652</td>\n      <td>55.0</td>\n    </tr>\n    <tr>\n      <th>2</th>\n      <td>Bronx</td>\n      <td>New York</td>\n      <td>40.852093</td>\n      <td>-73.862828</td>\n      <td>5029</td>\n      <td>60233</td>\n      <td>8.349244</td>\n      <td>100.0</td>\n    </tr>\n    <tr>\n      <th>3</th>\n      <td>Miami-Dade</td>\n      <td>Florida</td>\n      <td>25.611236</td>\n      <td>-80.551706</td>\n      <td>3746</td>\n      <td>211257</td>\n      <td>1.773196</td>\n      <td>NaN</td>\n    </tr>\n    <tr>\n      <th>4</th>\n      <td>New York</td>\n      <td>New York</td>\n      <td>40.767273</td>\n      <td>-73.971526</td>\n      <td>3218</td>\n      <td>41620</td>\n      <td>7.731860</td>\n      <td>100.0</td>\n    </tr>\n    <tr>\n      <th>...</th>\n      <td>...</td>\n      <td>...</td>\n      <td>...</td>\n      <td>...</td>\n      <td>...</td>\n      <td>...</td>\n      <td>...</td>\n      <td>...</td>\n    </tr>\n    <tr>\n      <th>95</th>\n      <td>Caddo</td>\n      <td>Louisiana</td>\n      <td>32.579916</td>\n      <td>-93.883757</td>\n      <td>434</td>\n      <td>12329</td>\n      <td>3.520156</td>\n      <td>NaN</td>\n    </tr>\n    <tr>\n      <th>96</th>\n      <td>Kane</td>\n      <td>Illinois</td>\n      <td>41.938427</td>\n      <td>-88.428614</td>\n      <td>431</td>\n      <td>28225</td>\n      <td>1.527015</td>\n      <td>NaN</td>\n    </tr>\n    <tr>\n      <th>97</th>\n      <td>Mecklenburg</td>\n      <td>North Carolina</td>\n      <td>35.244693</td>\n      <td>-80.831767</td>\n      <td>427</td>\n      <td>39880</td>\n      <td>1.070712</td>\n      <td>79.0</td>\n    </tr>\n    <tr>\n      <th>98</th>\n      <td>Arapahoe</td>\n      <td>Colorado</td>\n      <td>39.649775</td>\n      <td>-104.335362</td>\n      <td>426</td>\n      <td>22728</td>\n      <td>1.874340</td>\n      <td>NaN</td>\n    </tr>\n    <tr>\n      <th>99</th>\n      <td>Jefferson</td>\n      <td>Kentucky</td>\n      <td>38.186647</td>\n      <td>-85.659310</td>\n      <td>425</td>\n      <td>32073</td>\n      <td>1.325102</td>\n      <td>43.0</td>\n    </tr>\n  </tbody>\n</table>\n<p>100 rows \u00d7 8 columns</p>\n</div>",
                        "text/plain": "           City  Province_State        Lat       Long_  Total_Deaths  \\\n0        Queens        New York  40.710881  -73.816847          7335   \n1          Cook        Illinois  41.841448  -87.816588          6201   \n2         Bronx        New York  40.852093  -73.862828          5029   \n3    Miami-Dade         Florida  25.611236  -80.551706          3746   \n4      New York        New York  40.767273  -73.971526          3218   \n..          ...             ...        ...         ...           ...   \n95        Caddo       Louisiana  32.579916  -93.883757           434   \n96         Kane        Illinois  41.938427  -88.428614           431   \n97  Mecklenburg  North Carolina  35.244693  -80.831767           427   \n98     Arapahoe        Colorado  39.649775 -104.335362           426   \n99    Jefferson        Kentucky  38.186647  -85.659310           425   \n\n    Total_Cases  death_ratio  Number_of_Near_Hospitals  \n0         84843     8.645380                     100.0  \n1        272733     2.273652                      55.0  \n2         60233     8.349244                     100.0  \n3        211257     1.773196                       NaN  \n4         41620     7.731860                     100.0  \n..          ...          ...                       ...  \n95        12329     3.520156                       NaN  \n96        28225     1.527015                       NaN  \n97        39880     1.070712                      79.0  \n98        22728     1.874340                       NaN  \n99        32073     1.325102                      43.0  \n\n[100 rows x 8 columns]"
                    },
                    "execution_count": 42,
                    "metadata": {},
                    "output_type": "execute_result"
                }
            ],
            "source": "df_rate_100_final = pd.merge(df_rate_100, df_hospitals1, left_on = 'Lat', right_on = 'City Latitude', how ='outer')\ndf_rate_100_final"
        },
        {
            "cell_type": "code",
            "execution_count": 43,
            "metadata": {},
            "outputs": [],
            "source": "## Cheangeing NaN values to Zero"
        },
        {
            "cell_type": "code",
            "execution_count": 44,
            "metadata": {},
            "outputs": [
                {
                    "data": {
                        "text/html": "<div>\n<style scoped>\n    .dataframe tbody tr th:only-of-type {\n        vertical-align: middle;\n    }\n\n    .dataframe tbody tr th {\n        vertical-align: top;\n    }\n\n    .dataframe thead th {\n        text-align: right;\n    }\n</style>\n<table border=\"1\" class=\"dataframe\">\n  <thead>\n    <tr style=\"text-align: right;\">\n      <th></th>\n      <th>City</th>\n      <th>Province_State</th>\n      <th>Lat</th>\n      <th>Long_</th>\n      <th>Total_Deaths</th>\n      <th>Total_Cases</th>\n      <th>death_ratio</th>\n      <th>Number_of_Near_Hospitals</th>\n    </tr>\n  </thead>\n  <tbody>\n    <tr>\n      <th>0</th>\n      <td>Queens</td>\n      <td>New York</td>\n      <td>40.710881</td>\n      <td>-73.816847</td>\n      <td>7335</td>\n      <td>84843</td>\n      <td>8.645380</td>\n      <td>100.0</td>\n    </tr>\n    <tr>\n      <th>1</th>\n      <td>Cook</td>\n      <td>Illinois</td>\n      <td>41.841448</td>\n      <td>-87.816588</td>\n      <td>6201</td>\n      <td>272733</td>\n      <td>2.273652</td>\n      <td>55.0</td>\n    </tr>\n    <tr>\n      <th>2</th>\n      <td>Bronx</td>\n      <td>New York</td>\n      <td>40.852093</td>\n      <td>-73.862828</td>\n      <td>5029</td>\n      <td>60233</td>\n      <td>8.349244</td>\n      <td>100.0</td>\n    </tr>\n    <tr>\n      <th>3</th>\n      <td>Miami-Dade</td>\n      <td>Florida</td>\n      <td>25.611236</td>\n      <td>-80.551706</td>\n      <td>3746</td>\n      <td>211257</td>\n      <td>1.773196</td>\n      <td>0.0</td>\n    </tr>\n    <tr>\n      <th>4</th>\n      <td>New York</td>\n      <td>New York</td>\n      <td>40.767273</td>\n      <td>-73.971526</td>\n      <td>3218</td>\n      <td>41620</td>\n      <td>7.731860</td>\n      <td>100.0</td>\n    </tr>\n    <tr>\n      <th>...</th>\n      <td>...</td>\n      <td>...</td>\n      <td>...</td>\n      <td>...</td>\n      <td>...</td>\n      <td>...</td>\n      <td>...</td>\n      <td>...</td>\n    </tr>\n    <tr>\n      <th>95</th>\n      <td>Caddo</td>\n      <td>Louisiana</td>\n      <td>32.579916</td>\n      <td>-93.883757</td>\n      <td>434</td>\n      <td>12329</td>\n      <td>3.520156</td>\n      <td>0.0</td>\n    </tr>\n    <tr>\n      <th>96</th>\n      <td>Kane</td>\n      <td>Illinois</td>\n      <td>41.938427</td>\n      <td>-88.428614</td>\n      <td>431</td>\n      <td>28225</td>\n      <td>1.527015</td>\n      <td>0.0</td>\n    </tr>\n    <tr>\n      <th>97</th>\n      <td>Mecklenburg</td>\n      <td>North Carolina</td>\n      <td>35.244693</td>\n      <td>-80.831767</td>\n      <td>427</td>\n      <td>39880</td>\n      <td>1.070712</td>\n      <td>79.0</td>\n    </tr>\n    <tr>\n      <th>98</th>\n      <td>Arapahoe</td>\n      <td>Colorado</td>\n      <td>39.649775</td>\n      <td>-104.335362</td>\n      <td>426</td>\n      <td>22728</td>\n      <td>1.874340</td>\n      <td>0.0</td>\n    </tr>\n    <tr>\n      <th>99</th>\n      <td>Jefferson</td>\n      <td>Kentucky</td>\n      <td>38.186647</td>\n      <td>-85.659310</td>\n      <td>425</td>\n      <td>32073</td>\n      <td>1.325102</td>\n      <td>43.0</td>\n    </tr>\n  </tbody>\n</table>\n<p>100 rows \u00d7 8 columns</p>\n</div>",
                        "text/plain": "           City  Province_State        Lat       Long_  Total_Deaths  \\\n0        Queens        New York  40.710881  -73.816847          7335   \n1          Cook        Illinois  41.841448  -87.816588          6201   \n2         Bronx        New York  40.852093  -73.862828          5029   \n3    Miami-Dade         Florida  25.611236  -80.551706          3746   \n4      New York        New York  40.767273  -73.971526          3218   \n..          ...             ...        ...         ...           ...   \n95        Caddo       Louisiana  32.579916  -93.883757           434   \n96         Kane        Illinois  41.938427  -88.428614           431   \n97  Mecklenburg  North Carolina  35.244693  -80.831767           427   \n98     Arapahoe        Colorado  39.649775 -104.335362           426   \n99    Jefferson        Kentucky  38.186647  -85.659310           425   \n\n    Total_Cases  death_ratio  Number_of_Near_Hospitals  \n0         84843     8.645380                     100.0  \n1        272733     2.273652                      55.0  \n2         60233     8.349244                     100.0  \n3        211257     1.773196                       0.0  \n4         41620     7.731860                     100.0  \n..          ...          ...                       ...  \n95        12329     3.520156                       0.0  \n96        28225     1.527015                       0.0  \n97        39880     1.070712                      79.0  \n98        22728     1.874340                       0.0  \n99        32073     1.325102                      43.0  \n\n[100 rows x 8 columns]"
                    },
                    "execution_count": 44,
                    "metadata": {},
                    "output_type": "execute_result"
                }
            ],
            "source": "df_rate_100_final.fillna(0)"
        },
        {
            "cell_type": "code",
            "execution_count": 45,
            "metadata": {},
            "outputs": [
                {
                    "data": {
                        "text/plain": "(100, 7)"
                    },
                    "execution_count": 45,
                    "metadata": {},
                    "output_type": "execute_result"
                }
            ],
            "source": "df_rate_100.shape"
        },
        {
            "cell_type": "markdown",
            "metadata": {},
            "source": "## Part 3 -  Finding correlation between Number of Near Hospitals and Death Ratio"
        },
        {
            "cell_type": "code",
            "execution_count": 46,
            "metadata": {},
            "outputs": [
                {
                    "data": {
                        "image/png": "[encoded data removed]",
                        "text/plain": "<Figure size 432x288 with 1 Axes>"
                    },
                    "metadata": {
                        "needs_background": "light"
                    },
                    "output_type": "display_data"
                }
            ],
            "source": "plt.scatter(df_rate_100_final.death_ratio, df_rate_100_final.Number_of_Near_Hospitals , color = 'blue')\nplt.xlabel('Death Ratio')\nplt.ylabel('Number of Hospitals')\nplt.show()"
        },
        {
            "cell_type": "markdown",
            "metadata": {},
            "source": "### Results and Discussion:\n\nCovid-19 is still a disease that we are not fully aware of.\n\nSo far, it is known that personal hygiene with constant hand washing and use of alcohol gel, in addition to social distance and the use of masks are the best ways to prevent it.\n\nFor patients with the most severe cases of the disease, however, it is known that in a significant portion of the time, hospital care is required in an ICU with intubation. Thus, it is imagined that in cities with a greater number of hospitals and available hospital beds, the mortality rate due to Covid-19 was lower than in places with fewer beds.\n\nBut the analysis of the data in this study does not make this clear.\n\nObviously, Covid-19 and its mortality rate are multifactorial, involving social, economic, cultural and behavioral aspects of each location in the world."
        },
        {
            "cell_type": "markdown",
            "metadata": {},
            "source": "### Conclusion:\n\nAt first, there is apparently no direct correlation between the number of hospitals near a city and its death rate from Covid-19"
        },
        {
            "cell_type": "code",
            "execution_count": null,
            "metadata": {},
            "outputs": [],
            "source": ""
        },
        {
            "cell_type": "code",
            "execution_count": null,
            "metadata": {},
            "outputs": [],
            "source": ""
        },
        {
            "cell_type": "code",
            "execution_count": null,
            "metadata": {},
            "outputs": [],
            "source": ""
        }
    ],
    "metadata": {
        "kernelspec": {
            "display_name": "Python 3.7",
            "language": "python",
            "name": "python3"
        },
        "language_info": {
            "codemirror_mode": {
                "name": "ipython",
                "version": 3
            },
            "file_extension": ".py",
            "mimetype": "text/x-python",
            "name": "python",
            "nbconvert_exporter": "python",
            "pygments_lexer": "ipython3",
            "version": "3.7.9"
        }
    },
    "nbformat": 4,
    "nbformat_minor": 1
}